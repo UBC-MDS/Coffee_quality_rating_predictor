{
 "cells": [
  {
   "cell_type": "code",
   "execution_count": 46,
   "id": "c9fcd0b0-a12a-4698-931d-0221e8fa2422",
   "metadata": {},
   "outputs": [],
   "source": [
    "# This is a literate code document for experimenting which helps with\n",
    "# exploring the machine learning aspects before putting essential portions into scripts and final report\n",
    "\n",
    "# Import libs\n",
    "import os\n",
    "import pandas as pd\n",
    "import numpy as np\n",
    "import matplotlib.pyplot as plt\n",
    "import seaborn as sns\n",
    "import altair as alt\n",
    "from docopt import docopt\n",
    "from sklearn import datasets\n",
    "from sklearn.pipeline import Pipeline, make_pipeline\n",
    "from sklearn.preprocessing import OneHotEncoder, OrdinalEncoder, StandardScaler\n",
    "from sklearn.compose import ColumnTransformer, make_column_transformer\n",
    "from sklearn.ensemble import RandomForestRegressor\n",
    "from sklearn.linear_model import Ridge\n",
    "from sklearn.tree import DecisionTreeRegressor\n",
    "from sklearn.model_selection import (\n",
    "    RandomizedSearchCV,\n",
    "    cross_val_score,\n",
    "    cross_validate,\n",
    "    train_test_split,\n",
    ")\n",
    "\n",
    "# Reads already-split train and test dfs (80-20%), and creates train and split parts \n",
    "\n",
    "train_df = pd.read_csv(\"../data/processed/train_df.csv\")\n",
    "test_df = pd.read_csv(\"../data/processed/test_df.csv\")\n",
    "\n",
    "X_train = train_df.drop(columns=[\"total_cup_points\"])\n",
    "X_test = test_df.drop(columns=[\"total_cup_points\"])\n",
    "\n",
    "y_train = train_df[\"total_cup_points\"]\n",
    "y_test = test_df[\"total_cup_points\"]\n",
    "\n",
    "# Create a preprocessor for feature transformations\n",
    "\n",
    "numeric_features = [\n",
    "    \"moisture\",\n",
    "    \"quakers\",\n",
    "    \"altitude_mean_meters\"\n",
    "]\n",
    "\n",
    "categorical_features = [\n",
    "    \"country_of_origin\",\n",
    "    \"harvest_year\",\n",
    "    \"variety\",\n",
    "    \"processing_method\",\n",
    "    \"category_one_defects\",\n",
    "    \"color\",\n",
    "    \"category_two_defects\",\n",
    "    \"region\"\n",
    "    ]\n",
    "\n",
    "preprocessor = make_column_transformer(\n",
    "    (StandardScaler(), numeric_features),\n",
    "    (OneHotEncoder(handle_unknown=\"ignore\", sparse=False), categorical_features)\n",
    ")\n"
   ]
  },
  {
   "cell_type": "code",
   "execution_count": 50,
   "id": "b38b76a0-09ce-49f3-9de3-d91691059a3c",
   "metadata": {},
   "outputs": [
    {
     "data": {
      "text/html": [
       "<div>\n",
       "<style scoped>\n",
       "    .dataframe tbody tr th:only-of-type {\n",
       "        vertical-align: middle;\n",
       "    }\n",
       "\n",
       "    .dataframe tbody tr th {\n",
       "        vertical-align: top;\n",
       "    }\n",
       "\n",
       "    .dataframe thead th {\n",
       "        text-align: right;\n",
       "    }\n",
       "</style>\n",
       "<table border=\"1\" class=\"dataframe\">\n",
       "  <thead>\n",
       "    <tr style=\"text-align: right;\">\n",
       "      <th></th>\n",
       "      <th>Ridge</th>\n",
       "      <th>RForest_Regressor</th>\n",
       "    </tr>\n",
       "  </thead>\n",
       "  <tbody>\n",
       "    <tr>\n",
       "      <th>fit_time</th>\n",
       "      <td>0.015 (+/- 0.001)</td>\n",
       "      <td>0.416 (+/- 0.015)</td>\n",
       "    </tr>\n",
       "    <tr>\n",
       "      <th>score_time</th>\n",
       "      <td>0.007 (+/- 0.002)</td>\n",
       "      <td>0.016 (+/- 0.001)</td>\n",
       "    </tr>\n",
       "    <tr>\n",
       "      <th>test_score</th>\n",
       "      <td>-0.065 (+/- 0.594)</td>\n",
       "      <td>0.169 (+/- 0.128)</td>\n",
       "    </tr>\n",
       "    <tr>\n",
       "      <th>train_score</th>\n",
       "      <td>0.430 (+/- 0.019)</td>\n",
       "      <td>0.887 (+/- 0.008)</td>\n",
       "    </tr>\n",
       "  </tbody>\n",
       "</table>\n",
       "</div>"
      ],
      "text/plain": [
       "                          Ridge  RForest_Regressor\n",
       "fit_time      0.015 (+/- 0.001)  0.416 (+/- 0.015)\n",
       "score_time    0.007 (+/- 0.002)  0.016 (+/- 0.001)\n",
       "test_score   -0.065 (+/- 0.594)  0.169 (+/- 0.128)\n",
       "train_score   0.430 (+/- 0.019)  0.887 (+/- 0.008)"
      ]
     },
     "execution_count": 50,
     "metadata": {},
     "output_type": "execute_result"
    }
   ],
   "source": [
    "def mean_std_cross_val_scores(model, X_train, y_train, **kwargs):\n",
    "    \"\"\"\n",
    "    Returns mean and std of cross validation\n",
    "\n",
    "    Parameters\n",
    "    ----------\n",
    "    model :\n",
    "        scikit-learn model\n",
    "    X_train : numpy array or pandas DataFrame\n",
    "        X in the training data\n",
    "    y_train :\n",
    "        y in the training data\n",
    "\n",
    "    Returns\n",
    "    ----------\n",
    "        pandas Series with mean scores from cross_validation\n",
    "    \"\"\"\n",
    "\n",
    "    scores = cross_validate(model, X_train, y_train, **kwargs)\n",
    "\n",
    "    mean_scores = pd.DataFrame(scores).mean()\n",
    "    std_scores = pd.DataFrame(scores).std()\n",
    "    out_col = []\n",
    "\n",
    "    for i in range(len(mean_scores)):\n",
    "        out_col.append((f\"%0.3f (+/- %0.3f)\" % (mean_scores[i], std_scores[i])))\n",
    "\n",
    "    return pd.Series(data=out_col, index=mean_scores.index)\n",
    "\n",
    "\n",
    "# Building regression models\n",
    "\n",
    "models = {\n",
    "    \"Ridge\": Ridge(random_state=123),\n",
    "    \"RForest_Regressor\": RandomForestRegressor(random_state=123)\n",
    "}\n",
    "\n",
    "results_dict = {}\n",
    "\n",
    "for k, v in models.items():\n",
    "    pipe_multi = make_pipeline(preprocessor, v)\n",
    "    models_score = mean_std_cross_val_scores(pipe_multi, X_train, y_train, \n",
    "                                             cv=5, return_train_score=True)\n",
    "    results_dict[k] = models_score\n",
    "    pd.DataFrame.from_dict(results_dict)\n",
    "\n",
    "# --> FIRST OUTPUT: Table of results of 2 models from CV\n",
    "\n",
    "pd.DataFrame(results_dict)\n",
    "\n",
    "# ==> RESULT: We select RF Regressor with better CV performance: 0.177 for R squared \n",
    "# ==> NEXT: We try hyperparameter optimization on RF\n"
   ]
  },
  {
   "cell_type": "code",
   "execution_count": 18,
   "id": "3ce1ac7c-3cc9-43fd-81dd-ab6e2dbd0e21",
   "metadata": {},
   "outputs": [
    {
     "data": {
      "text/plain": [
       "0.2503683237098357"
      ]
     },
     "execution_count": 18,
     "metadata": {},
     "output_type": "execute_result"
    }
   ],
   "source": [
    "# Hyperparameter Optimization for RF Regressor Model\n",
    "\n",
    "param_dist = {'randomforestregressor__max_depth': np.arange(1, 20),\n",
    "              'randomforestregressor__max_features': np.arange(1, 124),\n",
    "              'randomforestregressor__n_estimators': np.arange(100, 1000, 100)\n",
    "             }\n",
    "\n",
    "pipe = make_pipeline(preprocessor, RandomForestRegressor())\n",
    "\n",
    "random_search = RandomizedSearchCV(\n",
    "    pipe, param_distributions=param_dist, n_jobs=-1,\n",
    "    n_iter=10, cv=5, random_state=123,\n",
    "    return_train_score=True)\n",
    "\n",
    "random_search.fit(X_train, y_train)|\n",
    "random_search.best_score_\n",
    "\n",
    "# ==> RESULT: Hyperparameter optimization ends up with better score of ~ 0.25\n",
    "# ==> NEXT: We view the feature importance using parameters by this best estimator"
   ]
  },
  {
   "cell_type": "code",
   "execution_count": 51,
   "id": "a6fc457c-a143-433a-9aa2-660f1f095987",
   "metadata": {},
   "outputs": [
    {
     "data": {
      "image/png": "[encoded data removed]",
      "text/plain": [
       "<Figure size 432x288 with 1 Axes>"
      ]
     },
     "metadata": {
      "needs_background": "light"
     },
     "output_type": "display_data"
    },
    {
     "data": {
      "text/plain": [
       "<Figure size 432x288 with 0 Axes>"
      ]
     },
     "metadata": {},
     "output_type": "display_data"
    }
   ],
   "source": [
    "# Inspect important features from best RF model\n",
    "\n",
    "X_transformed = preprocessor.fit_transform(X_train)\n",
    "\n",
    "column_names = (\n",
    "    numeric_features +\n",
    "    preprocessor.named_transformers_[\"onehotencoder\"].get_feature_names_out().tolist()\n",
    ")\n",
    "\n",
    "# Top 10 features\n",
    "importances = random_search.best_estimator_['randomforestregressor'].feature_importances_\n",
    "feat_df = pd.DataFrame({'features': column_names, 'importances': importances})\n",
    "feat_df = feat_df.sort_values('importances', ascending=False)[:5]\n",
    "\n",
    "# --> SECOND OUTPUT: Barplot of feature importances\n",
    "fig_feature_importance = sns.barplot(x=\"importances\", y=\"features\", data=feat_df, color=\"salmon\").set_title('Feature Importance from RF Model', weight='bold')\n",
    "plt.xlabel(\"Importances\")\n",
    "plt.ylabel(\"Features\")\n",
    "plt.show(fig_feature_importance);\n",
    "plt.savefig(\"../results/fig_feature_importance.png\")"
   ]
  },
  {
   "cell_type": "code",
   "execution_count": 52,
   "id": "a80e79e9-3a1a-4667-b6b3-fb6dd53ea2dc",
   "metadata": {},
   "outputs": [
    {
     "data": {
      "text/plain": [
       "-0.009324785134184888"
      ]
     },
     "execution_count": 52,
     "metadata": {},
     "output_type": "execute_result"
    }
   ],
   "source": [
    "# Performance on test set\n",
    "\n",
    "random_search.score(X_test, y_test)"
   ]
  },
  {
   "cell_type": "markdown",
   "id": "7791287d-32c0-4ca2-b9d0-837433f06a93",
   "metadata": {
    "tags": []
   },
   "source": [
    "# References\n",
    "https://scikit-learn.org/stable/auto_examples/ensemble/plot_forest_importances.html <br>\n",
    "https://scikit-learn.org/stable/modules/generated/sklearn.ensemble.RandomForestRegressor.html\n"
   ]
  },
  {
   "cell_type": "code",
   "execution_count": null,
   "id": "a130a5af-70d3-4210-8742-6d4a049129aa",
   "metadata": {},
   "outputs": [],
   "source": []
  }
 ],
 "metadata": {
  "kernelspec": {
   "display_name": "Python [conda env:571]",
   "language": "python",
   "name": "conda-env-571-py"
  },
  "language_info": {
   "codemirror_mode": {
    "name": "ipython",
    "version": 3
   },
   "file_extension": ".py",
   "mimetype": "text/x-python",
   "name": "python",
   "nbconvert_exporter": "python",
   "pygments_lexer": "ipython3",
   "version": "3.9.7"
  }
 },
 "nbformat": 4,
 "nbformat_minor": 5
}
