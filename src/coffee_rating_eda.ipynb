{
 "cells": [
  {
   "cell_type": "markdown",
   "id": "7c49bbcb-5c5d-4411-909f-deebb761f698",
   "metadata": {},
   "source": [
    "# Exploratory data analysis of Coffee Quality Dataset \n",
    "\n",
    "Authors: Arlin Cherian, Kristin Bunyan, Michelle Wang, Berkay Bulut\n",
    "\n",
    "***"
   ]
  },
  {
   "cell_type": "markdown",
   "id": "e405ceb5-00dc-4940-b550-c0247ea9efed",
   "metadata": {},
   "source": [
    "## Summary of the data set "
   ]
  },
  {
   "cell_type": "markdown",
   "id": "294d5f9d-56dc-454e-a404-50bffd18b23f",
   "metadata": {},
   "source": [
    "This project uses the *[Coffee Quality Dataset](https://github.com/jldbc/coffee-quality-database)*, collected by the Coffee Quality Institute in January 2018. The data was retrieved from tidytuesday, courtesy of James LeDoux, a Data Scientist at Buzzfeed. The data is collected on Arabica coffee beans from across the world and professionally rated on a 0-100 scale based on factors like acidity, sweetness, fragrance, balance, etc. The dataset also contains information about the country of origin of the coffee beans, harvesting and grading date, colour of the beans, defects, processing and packaging details. There are 1311 observations in the dataset and 43 features (18 numeric features and 25 categorical features). There are some missing values for certain features which will be preprocessed appropriately if included in the analysis model.\n",
    "\n",
    "The null values in the dataset were removed as well as some of the features that were either too specific or did not add any new additional information. For example regions were too specific, so we organized these features into a more general region features (3 general features) to make it more general for the model to learn on. Very specific features like `owner`, `farm_name`, `lot_number`, `mill`, `ico_number`, `company`, `altitude`, `producer`, `number_of_bags`,`bag_weight`, `in_country_partner`, `certification_body`, `certification_address`, `certification_contact`, `unit_of_measurement` were removed. Very specific features will not add generalization to a predictive model, very likely causing the model to overfit. We also removed columns that are calculation of other features which will not add any additional new information to the predictive model. Some of these features are: `sweetness`, `cupper_points`, `flavor`, `aftertaste`, `body`, `balance`, `uniformity`, `acidity`.\n",
    "\n",
    "There are no missing values in the target column, `total_cup_points`. According to the dataset decription, our target variable, `total_cup_points` is a point scale from 0-100 with mean scale rating of 82.1 points, minimum of 0.0 and maximum of 90.6 points.\n",
    "\n",
    "\n",
    "Table 1. Summary statistics of total cup points or rating on a scale of 0-100 points"
   ]
  },
  {
   "cell_type": "markdown",
   "id": "47deaf13-e381-4a95-a6de-e833ba819460",
   "metadata": {},
   "source": [
    "| Count  | Mean   | Std  |  Min | Q1 | Median | Q3 | Max |\n",
    "|---|---|---|---|---|---|---|---|\n",
    "| 1339.0  | 82.1  | 3.5  | 0.0  |81.0 | 82.5 | 83.6 | 90.6 |\n",
    "\n"
   ]
  },
  {
   "cell_type": "markdown",
   "id": "631bb322-4044-4368-9d30-1cb48d468421",
   "metadata": {},
   "source": [
    "Table 2. Unique values of country of origin, region and colour of coffee beans\n",
    "\n",
    "| Variable | Count   |\n",
    "| --- | --- |\n",
    "| Regions  | 356  | \n",
    "| Countries | 36 |\n",
    "|Colur of coffee beans | 3 |"
   ]
  },
  {
   "cell_type": "markdown",
   "id": "fcae4378-5455-41b6-85cc-a6e60c219f46",
   "metadata": {},
   "source": [
    "## Splitting of train and test data sets "
   ]
  },
  {
   "cell_type": "markdown",
   "id": "1a10e7e0-c2a1-43c1-9167-6dd08ab7d0c3",
   "metadata": {},
   "source": [
    "Before we begin visualizing the data, we will split the dataset into 80% training data and 20% test data. The test data will not be used for the exploratory analysis, and will only be used for testing the finalized model at the end of the project. Below we list the number of observations for each split.\n",
    "\n",
    "Table 3. Data partition to train and test data."
   ]
  },
  {
   "cell_type": "markdown",
   "id": "f1dcdee0-6e74-4ac7-8541-7a3592e21212",
   "metadata": {},
   "source": [
    "| Data Split | Rows | Columns | \n",
    "|---| ---| --- |\n",
    "| Train  | 1048 | 43  | \n",
    "| Test | 263 | 43 |\n"
   ]
  },
  {
   "cell_type": "markdown",
   "id": "4aad6ac7-4ca2-4c40-a13a-0d918a84471e",
   "metadata": {},
   "source": [
    "## Exploratory data analysis on training set"
   ]
  },
  {
   "cell_type": "markdown",
   "id": "4f02409e-e39b-424f-b4b5-60ec2f3effb3",
   "metadata": {},
   "source": [
    "We wanted to determine which features might be the most important to include to predict coffee quality rating. For preliminary EDA, we looked at some categorical features and only selected those that may be intuitive in adding to the model such as `country_of_origin`, `region` and `color` of the coffee beans. There are 36 unique countries, 3 unique colour of coffee beans and 343 unique regions. For the purpose of this preliminary analysis we are only visualizing the relationship between country of origin, color and the target variable as the region feature will require some preprocessing due to large number of unique values.\n",
    "\n",
    "In our first exploratory question, we looked at how total ratings differ between the different colours of coffee beans. As shown in Figure 1, the average coffee quality rating did not differ vastly by the colour of the coffee beans. Green color coffee beans were slightly lower in coffee quality rating than blue-green or bluish-green groups. \n",
    "\n",
    "In Figure 2, we looked at coffee quality ratings differed by country of origin of the beans. The average coffee rating differed between the various countries of origin. The highest average rating of coffee beans were from Ethiopia and the lowest average coffee rating were from Haiti. We will could also explore relationship between other categorical features and the total coffee quality rating with some preprocessing and cleaning of the dataset. \n",
    "\n",
    "We then explored the relationship between some numerical features in the data set and the target coffee rating to see the correlation between these features. Certain features such as aroma, flavour, aftertaste, acidity, body, balance, uniformity, or sweetness were ignored in this EDA as they are make up the sum of the total cup points taget variable.  Including these features in the model may lead to a false interpretation. Therefore, we have decided to ignore these variables in the analysis."
   ]
  },
  {
   "cell_type": "markdown",
   "id": "fae4273f-9b2a-47dc-90ed-f1345ba9fe7c",
   "metadata": {},
   "source": [
    "#### Figure 1. Coffee quality rating by coffee bean colour\n",
    "\n",
    "![](coffee_quality_eda_images/coffeebean_color_rating.svg)\n",
    "\n",
    "We can see that the average coffee quality rating did not differ greatly by the colour of the coffee beans. Green color coffee beans were slightly lower in coffee quality rating than blue-green or bluish-green groups."
   ]
  },
  {
   "cell_type": "markdown",
   "id": "2ad0d0d2",
   "metadata": {},
   "source": []
  },
  {
   "cell_type": "markdown",
   "id": "a494315c-6416-43d8-815e-befe13009534",
   "metadata": {},
   "source": [
    "#### Figure 2. Coffee quality rating by coffee bean country of origin\n",
    "\n",
    "![](coffee_quality_eda_images/coffee_coo_boxplot_mean.svg)\n",
    "\n",
    "We can see that the average coffee quality rating differed between the various countries of origin. The highest average rating of coffee beans were from Ethiopia and the lowest average coffee rating were from Haiti."
   ]
  },
  {
   "cell_type": "markdown",
   "id": "9ee4f24a",
   "metadata": {},
   "source": []
  },
  {
   "cell_type": "markdown",
   "id": "338ee678-f6c9-4e3c-9b54-9c831012adbe",
   "metadata": {},
   "source": [
    "#### Figure 3. Coffee quality rating by possible numerical predictors\n",
    "\n",
    "![](coffee_quality_eda_images/numerical_features_corr.svg)\n",
    "\n",
    "Scatter plots of explanatory variables with target variable show that there is some relationship. We do not oberver perfect linear relationships however we expect some non-linear relationships between features and target variables"
   ]
  },
  {
   "cell_type": "markdown",
   "id": "422d7891",
   "metadata": {},
   "source": [
    "#### Figure 4. Total Cup Points Distribution\n",
    "\n",
    "![](../results/images/target_histogram.png)\n",
    "\n",
    "We observed that the total cup points (target variable) have a right skewed distribution. The distribution ranges from 60 to 90. Most of the values are between 80 to 85. The predictive model will learn the target data in this range."
   ]
  },
  {
   "cell_type": "markdown",
   "id": "2178dfa3",
   "metadata": {},
   "source": []
  },
  {
   "cell_type": "markdown",
   "id": "b404fb7e",
   "metadata": {},
   "source": [
    "#### Figure 5. Correlation matrix heatmap\n",
    "\n",
    "![](../results/images/correlation_matrix_heatmap.png)\n",
    "\n",
    "We observe in this correlation matrix that category two defects feature has the highest absolute correlation with our target variable, total_cup_points, at -0.31. The second highest correlation with the target variable is with category one defects, followed by moisture. All features, except for the quakers feature, have a negative correlation with the target variable. Altitude mean meters feature has almost no correlation to the target variable. There also appears to be a strong correlation between category two defects and category one defects, possibly alluding to some potential multicolinearity."
   ]
  },
  {
   "cell_type": "markdown",
   "id": "39769948",
   "metadata": {},
   "source": []
  }
 ],
 "metadata": {
  "kernelspec": {
   "display_name": "Python 3 (ipykernel)",
   "language": "python",
   "name": "python3"
  },
  "language_info": {
   "codemirror_mode": {
    "name": "ipython",
    "version": 3
   },
   "file_extension": ".py",
   "mimetype": "text/x-python",
   "name": "python",
   "nbconvert_exporter": "python",
   "pygments_lexer": "ipython3",
   "version": "3.9.5"
  }
 },
 "nbformat": 4,
 "nbformat_minor": 5
}
